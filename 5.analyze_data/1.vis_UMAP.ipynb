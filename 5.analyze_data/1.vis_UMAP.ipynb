{
 "cells": [
  {
   "cell_type": "markdown",
   "metadata": {},
   "source": [
    "# Visualize UMAPs for the single-cell and organoid datasets"
   ]
  },
  {
   "cell_type": "markdown",
   "metadata": {},
   "source": [
    "## Import libraries"
   ]
  },
  {
   "cell_type": "code",
   "execution_count": 1,
   "metadata": {
    "vscode": {
     "languageId": "r"
    }
   },
   "outputs": [
    {
     "name": "stderr",
     "output_type": "stream",
     "text": [
      "Warning message:\n",
      "“package ‘ggplot2’ was built under R version 4.2.3”\n",
      "Warning message:\n",
      "“package ‘RColorBrewer’ was built under R version 4.2.3”\n"
     ]
    }
   ],
   "source": [
    "suppressPackageStartupMessages(library(ggplot2)) #plotting\n",
    "suppressPackageStartupMessages(library(dplyr)) #work with data frames\n",
    "suppressPackageStartupMessages(library(RColorBrewer)) # colors for plotting"
   ]
  },
  {
   "cell_type": "markdown",
   "metadata": {},
   "source": [
    "## Set paths and variables"
   ]
  },
  {
   "cell_type": "code",
   "execution_count": 2,
   "metadata": {
    "vscode": {
     "languageId": "r"
    }
   },
   "outputs": [
    {
     "name": "stdout",
     "output_type": "stream",
     "text": [
      "$NF0014_organoid\n",
      "[1] \"figures/UMAP_NF0014_organoid\"\n",
      "\n",
      "$NF0014_sc\n",
      "[1] \"figures/UMAP_NF0014_sc\"\n",
      "\n"
     ]
    }
   ],
   "source": [
    "# Set directory and file structure\n",
    "umap_dir <- \"results\"\n",
    "output_fig_dir <- \"figures\"\n",
    "# Create the figures directory if it does not exist\n",
    "if (!dir.exists(output_fig_dir)) {\n",
    "  dir.create(output_fig_dir, recursive = TRUE)\n",
    "}\n",
    "umap_files <- list.files(umap_dir, pattern = \"\\\\.tsv$\", full.names = TRUE)\n",
    "\n",
    "# Define prefix for constructing paths\n",
    "umap_prefix <- \"UMAP_\"\n",
    "\n",
    "# Build dictionary of output paths\n",
    "output_umap_files <- setNames(\n",
    "    lapply(umap_files, function(file) {\n",
    "        plate <- sub(\"^.*UMAP_(.*)\\\\.tsv$\", \"\\\\1\", file)\n",
    "        file.path(output_fig_dir, paste0(umap_prefix, plate))\n",
    "    }),\n",
    "    sapply(umap_files, function(file) {\n",
    "        sub(\"^.*UMAP_(.*)\\\\.tsv$\", \"\\\\1\", file)\n",
    "    })\n",
    ")\n",
    "\n",
    "print(output_umap_files)"
   ]
  },
  {
   "cell_type": "markdown",
   "metadata": {},
   "source": [
    "## Load in the files with the UMAP embeddings"
   ]
  },
  {
   "cell_type": "code",
   "execution_count": 3,
   "metadata": {
    "vscode": {
     "languageId": "r"
    }
   },
   "outputs": [],
   "source": [
    "# Load data\n",
    "umap_cp_df <- list()\n",
    "for (plate in names(output_umap_files)) {\n",
    "    # Find the umap file associated with the plate\n",
    "    umap_file <- umap_files[stringr::str_detect(umap_files, plate)]\n",
    "    \n",
    "    # Load in the umap data\n",
    "    df <- readr::read_tsv(\n",
    "        umap_file,\n",
    "        col_types = readr::cols(\n",
    "            .default = \"d\",\n",
    "            \"Metadata_Plate\" = \"c\",\n",
    "            \"Metadata_Well\" = \"c\",\n",
    "            \"Metadata_Site\" = \"c\",\n",
    "            \"Metadata_treatment\" = \"c\",\n",
    "            \"Metadata_dose\" = \"c\",\n",
    "            \"Metadata_ZSlice\" = \"c\",\n",
    "        )\n",
    "    )\n",
    "    \n",
    "    # Create the Metadata_treatment_dose column and ZSlice_Number column\n",
    "    df <- df %>%\n",
    "        mutate(\n",
    "            Metadata_treatment_dose = paste(Metadata_treatment, Metadata_dose, sep = \"_\"),\n",
    "            ZSlice_Number = substr(Metadata_ZSlice, nchar(Metadata_ZSlice) - 1, nchar(Metadata_ZSlice))\n",
    "        )\n",
    "\n",
    "    # Count cells per well\n",
    "    well_counts <- df %>%\n",
    "        group_by(Metadata_Well) %>%\n",
    "        summarise(well_cell_count = n(), .groups = 'drop')\n",
    "\n",
    "    # Join the counts back to the original dataframe\n",
    "    df <- df %>%\n",
    "        left_join(well_counts, by = \"Metadata_Well\")\n",
    "\n",
    "    # Append the data frame to the list\n",
    "    umap_cp_df[[plate]] <- df \n",
    "}"
   ]
  },
  {
   "cell_type": "markdown",
   "metadata": {},
   "source": [
    "## Generate UMAPs"
   ]
  },
  {
   "cell_type": "code",
   "execution_count": 4,
   "metadata": {
    "vscode": {
     "languageId": "r"
    }
   },
   "outputs": [],
   "source": [
    "# Define a custom color palette\n",
    "color_palette <- c(\n",
    "  \"Mirdametinib_1\" = \"#1f77b4\",       # Light blue\n",
    "  \"Mirdametinib_10\" = \"#1f47b4\",      # Darker blue\n",
    "  \"Everolimus_1\" = \"#ff7f0e\",         # Bright orange\n",
    "  \"Imatinib_1\" = \"#bcbd22\",           # Olive green (light)\n",
    "  \"Linsitinib_1\" = \"#2ca02c\",         # Light green\n",
    "  \"DMSO_1\" = \"#9467bd\",               # Light purple\n",
    "  \"Cabozantinib_1\" = \"#5b3e2f\",       # Darker brown\n",
    "  \"Onalespib_1\" = \"#9edae5\",          # Softer cyan\n",
    "  \"Fimepinostat_1\" = \"#7f7f7f\",       # Gray\n",
    "  \"Trametinib_1\" = \"#17becf\",         # Cyan\n",
    "  \"Trametinib_10\" = \"#0091b0\",        # Darker cyan for 10\n",
    "  \"Selumetinib_1\" = \"#e377c2\",        # Light pink\n",
    "  \"Selumetinib_10\" = \"#d5006d\",       # Dark pink for 10\n",
    "  \"Rapamycin_1\" = \"#ff6f61\",          # Coral pink\n",
    "  \"Copanlisib_1\" = \"#ffbb78\",         # Light orange for 1\n",
    "  \"Binimetinib_1\" = \"#ff9896\",        # Light red\n",
    "  \"Binimetinib_10\" = \"#d62728\",       # Dark red for 10\n",
    "  \"Ketotifen_1\" = \"#98df8a\",          # Light green\n",
    "  \"Nilotinib_1\" = \"#c5b0d5\",          # Lavender\n",
    "  \"Digoxin_1\" = \"#ffb3e6\",            # Light lavender pink\n",
    "  \"STAURO_10\" = \"#b46a61\"             # Darker brown for 10\n",
    ")\n",
    "\n",
    "# Define the Viridis colors manually\n",
    "viridis_colors <- c(\n",
    "    \"#440154\", \"#482878\", \"#3e4a8a\", \"#31688e\", \n",
    "    \"#26828e\", \"#1f9e89\", \"#5ec962\", \"#b3d86e\", \n",
    "    \"#fde724\"\n",
    ")\n",
    "\n",
    "for (plate in names(umap_cp_df)) {\n",
    "    # Genotype UMAP file path\n",
    "    treatment_output_file <- paste0(output_umap_files[[plate]], \"_treatment.png\")\n",
    "\n",
    "    # UMAP labeled with treatment and dose\n",
    "    treatment_gg <- (\n",
    "        ggplot(umap_cp_df[[plate]], aes(x = UMAP0, y = UMAP1))\n",
    "        + geom_point(\n",
    "            aes(color = Metadata_treatment_dose), size = 2, alpha = 0.6, show.legend = TRUE\n",
    "        )\n",
    "        + scale_color_manual(values = color_palette)  # Use custom color palette\n",
    "        + theme_bw()\n",
    "        + labs(color = \"Treatment and Dose\")  # Change legend title\n",
    "        + theme(\n",
    "            legend.position = \"left\"\n",
    "        )\n",
    "    )\n",
    "    \n",
    "    ggsave(treatment_output_file, treatment_gg, dpi = 500, height = 6, width = 10)\n",
    "\n",
    "    # UMAP for well cell count\n",
    "    well_cell_count_output_file <- paste0(output_umap_files[[plate]], \"_well_cell_count.png\")\n",
    "\n",
    "    well_cell_count_gg <- (\n",
    "        ggplot(umap_cp_df[[plate]], aes(x = UMAP0, y = UMAP1))\n",
    "        + geom_point(\n",
    "            aes(color = well_cell_count), size = 2, alpha = 0.6, show.legend = TRUE\n",
    "        )\n",
    "        + scale_color_gradientn(colors = viridis_colors, name = \"Cell Count\")  # Use manually defined colors\n",
    "        + theme_bw()\n",
    "        + theme(\n",
    "            legend.position = \"left\"\n",
    "        )\n",
    "    )\n",
    "\n",
    "    ggsave(well_cell_count_output_file, well_cell_count_gg, dpi = 500, height = 6, width = 10)\n",
    "    \n",
    "    # UMAP for ZSlice_Number in green gradient\n",
    "    zslice_output_file <- paste0(output_umap_files[[plate]], \"_zslice.png\")\n",
    "\n",
    "    zslice_gg <- (\n",
    "        ggplot(umap_cp_df[[plate]], aes(x = UMAP0, y = UMAP1))\n",
    "        + geom_point(\n",
    "            aes(color = as.numeric(ZSlice_Number)), size = 2, alpha = 0.6, show.legend = TRUE\n",
    "        )\n",
    "        + scale_color_gradient(low = \"lightgreen\", high = \"darkgreen\", name = \"ZSlice Number\")  # Green gradient\n",
    "        + theme_bw()\n",
    "        + theme(\n",
    "            legend.position = \"left\"\n",
    "        )\n",
    "    )\n",
    "\n",
    "    ggsave(zslice_output_file, zslice_gg, dpi = 500, height = 6, width = 10)\n",
    "}"
   ]
  }
 ],
 "metadata": {
  "kernelspec": {
   "display_name": "R",
   "language": "R",
   "name": "ir"
  },
  "language_info": {
   "codemirror_mode": "r",
   "file_extension": ".r",
   "mimetype": "text/x-r-source",
   "name": "R",
   "pygments_lexer": "r",
   "version": "4.2.2"
  }
 },
 "nbformat": 4,
 "nbformat_minor": 2
}
