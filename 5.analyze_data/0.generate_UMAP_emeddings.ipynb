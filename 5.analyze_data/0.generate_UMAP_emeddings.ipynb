{
 "cells": [
  {
   "cell_type": "markdown",
   "metadata": {},
   "source": [
    "# Generate UMAP embeddings per plate and profile (single-cell or organoid)"
   ]
  },
  {
   "cell_type": "code",
   "execution_count": 1,
   "metadata": {},
   "outputs": [],
   "source": [
    "import glob\n",
    "import pathlib\n",
    "import pandas as pd\n",
    "import umap\n",
    "\n",
    "from pycytominer import feature_select\n",
    "from pycytominer.cyto_utils import infer_cp_features"
   ]
  },
  {
   "cell_type": "markdown",
   "metadata": {},
   "source": [
    "## Set paths and constants"
   ]
  },
  {
   "cell_type": "code",
   "execution_count": 2,
   "metadata": {},
   "outputs": [],
   "source": [
    "# Set constants\n",
    "umap_random_seed = 0\n",
    "umap_n_components = 2\n",
    "\n",
    "output_dir = pathlib.Path(\"results\")\n",
    "output_dir.mkdir(parents=True, exist_ok=True)"
   ]
  },
  {
   "cell_type": "markdown",
   "metadata": {},
   "source": [
    "## Identify file paths to process"
   ]
  },
  {
   "cell_type": "code",
   "execution_count": 3,
   "metadata": {},
   "outputs": [
    {
     "data": {
      "text/plain": [
       "['../4.preprocess_features/data/single_cell_profiles/NF0014_organoid_feature_selected.parquet',\n",
       " '../4.preprocess_features/data/single_cell_profiles/NF0014_sc_feature_selected.parquet']"
      ]
     },
     "execution_count": 3,
     "metadata": {},
     "output_type": "execute_result"
    }
   ],
   "source": [
    "# Set input paths\n",
    "data_dir = pathlib.Path(\"../4.preprocess_features/data/single_cell_profiles\")\n",
    "\n",
    "# Select only the feature selected files\n",
    "file_suffix = \"*feature_selected.parquet\"\n",
    "\n",
    "# Obtain file paths for all feature selected plates\n",
    "fs_files = glob.glob(f\"{data_dir}/{file_suffix}\")\n",
    "fs_files"
   ]
  },
  {
   "cell_type": "code",
   "execution_count": 4,
   "metadata": {},
   "outputs": [
    {
     "name": "stdout",
     "output_type": "stream",
     "text": [
      "dict_keys(['NF0014_organoid_feature_selected.parquet', 'NF0014_sc_feature_selected.parquet'])\n"
     ]
    },
    {
     "data": {
      "text/plain": [
       "[(152, 530), (2142, 1334)]"
      ]
     },
     "execution_count": 4,
     "metadata": {},
     "output_type": "execute_result"
    }
   ],
   "source": [
    "# Load feature data into a dictionary, keyed on plate name\n",
    "cp_dfs = {x.split(\"/\")[-1]: pd.read_parquet(x) for x in fs_files}\n",
    "\n",
    "# Print out useful information about each dataset\n",
    "print(cp_dfs.keys())\n",
    "[cp_dfs[x].shape for x in cp_dfs]"
   ]
  },
  {
   "cell_type": "code",
   "execution_count": 5,
   "metadata": {},
   "outputs": [
    {
     "name": "stdout",
     "output_type": "stream",
     "text": [
      "UMAP embeddings being generated for NF0014_organoid\n",
      "(152, 2)\n",
      "UMAP embeddings being generated for NF0014_sc\n",
      "(2142, 2)\n"
     ]
    }
   ],
   "source": [
    "desired_columns = [\n",
    "    \"Metadata_Plate\",\n",
    "    \"Metadata_Well\",\n",
    "    \"Metadata_Site\",\n",
    "    \"Metadata_treatment\",\n",
    "    \"Metadata_dose\",\n",
    "    \"Metadata_ZSlice\",\n",
    "    \"Metadata_Nuclei_Location_Center_X\",\n",
    "    \"Metadata_Nuclei_Location_Center_Y\",\n",
    "]\n",
    "\n",
    "# Fit UMAP features per dataset and save\n",
    "for plate in cp_dfs:\n",
    "    # Extract the first two parts of the plate name\n",
    "    plate_name_parts = pathlib.Path(plate).stem.split(\"_\")[:2]\n",
    "    plate_name = \"_\".join(plate_name_parts)\n",
    "    print(\"UMAP embeddings being generated for\", plate_name)\n",
    "\n",
    "    # Set compartments based on the second part of the plate name\n",
    "    if plate_name_parts[1] == \"sc\":\n",
    "        compartments = [\"nuclei\", \"cells\", \"cytoplasm\"]\n",
    "    elif plate_name_parts[1] == \"organoid\":\n",
    "        compartments = [\"organoids\"]\n",
    "    else:\n",
    "        compartments = []  # or handle other cases if necessary\n",
    "\n",
    "    # Continue with UMAP processing\n",
    "    umap_fit = umap.UMAP(random_state=umap_random_seed, n_components=umap_n_components, n_jobs=1)\n",
    "\n",
    "    # Select one plate at a time to process\n",
    "    cp_df = cp_dfs[plate]\n",
    "\n",
    "    # Separate feature versus metadata\n",
    "    cp_features = infer_cp_features(cp_df, compartments=compartments)\n",
    "    meta_features = infer_cp_features(cp_df, metadata=True, compartments=compartments)\n",
    "    filtered_meta_features = [\n",
    "        feature for feature in meta_features if feature in desired_columns\n",
    "    ]\n",
    "\n",
    "    # Confirms that no NA columns are included\n",
    "    cp_df = feature_select(\n",
    "        cp_dfs[plate], features=cp_features, operation=\"drop_na_columns\", na_cutoff=0\n",
    "    )\n",
    "\n",
    "    embeddings = pd.DataFrame(\n",
    "        umap_fit.fit_transform(cp_df.loc[:, cp_features]),\n",
    "        columns=[f\"UMAP{x}\" for x in range(0, umap_n_components)],\n",
    "    )\n",
    "    print(embeddings.shape)\n",
    "\n",
    "    cp_umap_with_metadata_df = pd.concat(\n",
    "        [cp_df.loc[:, filtered_meta_features].reset_index(drop=True), embeddings],\n",
    "        axis=1,\n",
    "    )\n",
    "    cp_umap_with_metadata_df = cp_umap_with_metadata_df.sample(frac=1, random_state=0)\n",
    "\n",
    "    output_umap_file = pathlib.Path(output_dir, f\"UMAP_{plate_name}.tsv\")\n",
    "    cp_umap_with_metadata_df.to_csv(output_umap_file, index=False, sep=\"\\t\")"
   ]
  },
  {
   "cell_type": "code",
   "execution_count": 6,
   "metadata": {},
   "outputs": [
    {
     "name": "stdout",
     "output_type": "stream",
     "text": [
      "(2142, 10)\n"
     ]
    },
    {
     "data": {
      "text/html": [
       "<div>\n",
       "<style scoped>\n",
       "    .dataframe tbody tr th:only-of-type {\n",
       "        vertical-align: middle;\n",
       "    }\n",
       "\n",
       "    .dataframe tbody tr th {\n",
       "        vertical-align: top;\n",
       "    }\n",
       "\n",
       "    .dataframe thead th {\n",
       "        text-align: right;\n",
       "    }\n",
       "</style>\n",
       "<table border=\"1\" class=\"dataframe\">\n",
       "  <thead>\n",
       "    <tr style=\"text-align: right;\">\n",
       "      <th></th>\n",
       "      <th>Metadata_treatment</th>\n",
       "      <th>Metadata_dose</th>\n",
       "      <th>Metadata_Nuclei_Location_Center_X</th>\n",
       "      <th>Metadata_Nuclei_Location_Center_Y</th>\n",
       "      <th>Metadata_Plate</th>\n",
       "      <th>Metadata_Well</th>\n",
       "      <th>Metadata_Site</th>\n",
       "      <th>Metadata_ZSlice</th>\n",
       "      <th>UMAP0</th>\n",
       "      <th>UMAP1</th>\n",
       "    </tr>\n",
       "  </thead>\n",
       "  <tbody>\n",
       "    <tr>\n",
       "      <th>1719</th>\n",
       "      <td>DMSO</td>\n",
       "      <td>1</td>\n",
       "      <td>455.845159</td>\n",
       "      <td>1097.101441</td>\n",
       "      <td>NF0014</td>\n",
       "      <td>G9</td>\n",
       "      <td>2</td>\n",
       "      <td>ZS060</td>\n",
       "      <td>10.488344</td>\n",
       "      <td>3.322388</td>\n",
       "    </tr>\n",
       "    <tr>\n",
       "      <th>175</th>\n",
       "      <td>Onalespib</td>\n",
       "      <td>1</td>\n",
       "      <td>997.921257</td>\n",
       "      <td>587.684398</td>\n",
       "      <td>NF0014</td>\n",
       "      <td>F2</td>\n",
       "      <td>1</td>\n",
       "      <td>ZS016</td>\n",
       "      <td>9.025520</td>\n",
       "      <td>1.798351</td>\n",
       "    </tr>\n",
       "    <tr>\n",
       "      <th>1220</th>\n",
       "      <td>Cabozantinib</td>\n",
       "      <td>1</td>\n",
       "      <td>933.373082</td>\n",
       "      <td>828.089261</td>\n",
       "      <td>NF0014</td>\n",
       "      <td>E7</td>\n",
       "      <td>2</td>\n",
       "      <td>ZS028</td>\n",
       "      <td>14.360832</td>\n",
       "      <td>2.497238</td>\n",
       "    </tr>\n",
       "    <tr>\n",
       "      <th>562</th>\n",
       "      <td>DMSO</td>\n",
       "      <td>1</td>\n",
       "      <td>594.749104</td>\n",
       "      <td>876.462366</td>\n",
       "      <td>NF0014</td>\n",
       "      <td>E4</td>\n",
       "      <td>1</td>\n",
       "      <td>ZS048</td>\n",
       "      <td>12.116467</td>\n",
       "      <td>0.906233</td>\n",
       "    </tr>\n",
       "    <tr>\n",
       "      <th>1184</th>\n",
       "      <td>Cabozantinib</td>\n",
       "      <td>1</td>\n",
       "      <td>732.368894</td>\n",
       "      <td>395.807737</td>\n",
       "      <td>NF0014</td>\n",
       "      <td>D7</td>\n",
       "      <td>1</td>\n",
       "      <td>ZS046</td>\n",
       "      <td>13.056751</td>\n",
       "      <td>-0.201787</td>\n",
       "    </tr>\n",
       "    <tr>\n",
       "      <th>1342</th>\n",
       "      <td>Binimetinib</td>\n",
       "      <td>10</td>\n",
       "      <td>645.430652</td>\n",
       "      <td>1187.039680</td>\n",
       "      <td>NF0014</td>\n",
       "      <td>D8</td>\n",
       "      <td>1</td>\n",
       "      <td>ZS034</td>\n",
       "      <td>13.335670</td>\n",
       "      <td>-0.699606</td>\n",
       "    </tr>\n",
       "    <tr>\n",
       "      <th>2057</th>\n",
       "      <td>Selumetinib</td>\n",
       "      <td>1</td>\n",
       "      <td>919.729866</td>\n",
       "      <td>1270.625839</td>\n",
       "      <td>NF0014</td>\n",
       "      <td>D11</td>\n",
       "      <td>2</td>\n",
       "      <td>ZS060</td>\n",
       "      <td>13.624490</td>\n",
       "      <td>3.410051</td>\n",
       "    </tr>\n",
       "    <tr>\n",
       "      <th>1693</th>\n",
       "      <td>DMSO</td>\n",
       "      <td>1</td>\n",
       "      <td>1266.556122</td>\n",
       "      <td>539.344388</td>\n",
       "      <td>NF0014</td>\n",
       "      <td>F9</td>\n",
       "      <td>2</td>\n",
       "      <td>ZS046</td>\n",
       "      <td>13.370322</td>\n",
       "      <td>3.341992</td>\n",
       "    </tr>\n",
       "    <tr>\n",
       "      <th>391</th>\n",
       "      <td>DMSO</td>\n",
       "      <td>1</td>\n",
       "      <td>1105.579903</td>\n",
       "      <td>677.227935</td>\n",
       "      <td>NF0014</td>\n",
       "      <td>C4</td>\n",
       "      <td>2</td>\n",
       "      <td>ZS032</td>\n",
       "      <td>12.200756</td>\n",
       "      <td>2.486074</td>\n",
       "    </tr>\n",
       "    <tr>\n",
       "      <th>1275</th>\n",
       "      <td>Binimetinib</td>\n",
       "      <td>1</td>\n",
       "      <td>851.306344</td>\n",
       "      <td>734.030211</td>\n",
       "      <td>NF0014</td>\n",
       "      <td>G7</td>\n",
       "      <td>1</td>\n",
       "      <td>ZS024</td>\n",
       "      <td>11.024634</td>\n",
       "      <td>4.511296</td>\n",
       "    </tr>\n",
       "  </tbody>\n",
       "</table>\n",
       "</div>"
      ],
      "text/plain": [
       "     Metadata_treatment  Metadata_dose  Metadata_Nuclei_Location_Center_X  \\\n",
       "1719               DMSO              1                         455.845159   \n",
       "175           Onalespib              1                         997.921257   \n",
       "1220       Cabozantinib              1                         933.373082   \n",
       "562                DMSO              1                         594.749104   \n",
       "1184       Cabozantinib              1                         732.368894   \n",
       "1342        Binimetinib             10                         645.430652   \n",
       "2057        Selumetinib              1                         919.729866   \n",
       "1693               DMSO              1                        1266.556122   \n",
       "391                DMSO              1                        1105.579903   \n",
       "1275        Binimetinib              1                         851.306344   \n",
       "\n",
       "      Metadata_Nuclei_Location_Center_Y Metadata_Plate Metadata_Well  \\\n",
       "1719                        1097.101441         NF0014            G9   \n",
       "175                          587.684398         NF0014            F2   \n",
       "1220                         828.089261         NF0014            E7   \n",
       "562                          876.462366         NF0014            E4   \n",
       "1184                         395.807737         NF0014            D7   \n",
       "1342                        1187.039680         NF0014            D8   \n",
       "2057                        1270.625839         NF0014           D11   \n",
       "1693                         539.344388         NF0014            F9   \n",
       "391                          677.227935         NF0014            C4   \n",
       "1275                         734.030211         NF0014            G7   \n",
       "\n",
       "     Metadata_Site Metadata_ZSlice      UMAP0     UMAP1  \n",
       "1719             2           ZS060  10.488344  3.322388  \n",
       "175              1           ZS016   9.025520  1.798351  \n",
       "1220             2           ZS028  14.360832  2.497238  \n",
       "562              1           ZS048  12.116467  0.906233  \n",
       "1184             1           ZS046  13.056751 -0.201787  \n",
       "1342             1           ZS034  13.335670 -0.699606  \n",
       "2057             2           ZS060  13.624490  3.410051  \n",
       "1693             2           ZS046  13.370322  3.341992  \n",
       "391              2           ZS032  12.200756  2.486074  \n",
       "1275             1           ZS024  11.024634  4.511296  "
      ]
     },
     "execution_count": 6,
     "metadata": {},
     "output_type": "execute_result"
    }
   ],
   "source": [
    "# Print an example output file\n",
    "print(cp_umap_with_metadata_df.shape)\n",
    "cp_umap_with_metadata_df.head(10)"
   ]
  }
 ],
 "metadata": {
  "kernelspec": {
   "display_name": "Python 3",
   "language": "python",
   "name": "python3"
  },
  "language_info": {
   "codemirror_mode": {
    "name": "ipython",
    "version": 3
   },
   "file_extension": ".py",
   "mimetype": "text/x-python",
   "name": "python",
   "nbconvert_exporter": "python",
   "pygments_lexer": "ipython3",
   "version": "3.10.15"
  }
 },
 "nbformat": 4,
 "nbformat_minor": 2
}
