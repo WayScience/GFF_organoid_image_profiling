{
 "cells": [
  {
   "cell_type": "markdown",
   "metadata": {},
   "source": [
    "# Generate platemap visualizations\n"
   ]
  },
  {
   "cell_type": "markdown",
   "metadata": {},
   "source": [
    "## Import libraries"
   ]
  },
  {
   "cell_type": "code",
   "execution_count": 1,
   "metadata": {
    "vscode": {
     "languageId": "r"
    }
   },
   "outputs": [
    {
     "name": "stderr",
     "output_type": "stream",
     "text": [
      "Warning message:\n",
      "“package ‘ggplot2’ was built under R version 4.2.3”\n",
      "Warning message:\n",
      "“package ‘platetools’ was built under R version 4.2.3”\n"
     ]
    }
   ],
   "source": [
    "suppressPackageStartupMessages(library(dplyr))\n",
    "suppressPackageStartupMessages(library(ggplot2))\n",
    "suppressPackageStartupMessages(library(platetools))"
   ]
  },
  {
   "cell_type": "markdown",
   "metadata": {},
   "source": [
    "## Set paths"
   ]
  },
  {
   "cell_type": "code",
   "execution_count": 2,
   "metadata": {
    "vscode": {
     "languageId": "r"
    }
   },
   "outputs": [
    {
     "name": "stdout",
     "output_type": "stream",
     "text": [
      "[1] \"./NF0014_platemap.csv\"\n",
      "$NF0014\n",
      "[1] \"platemap_figures/NF0014_platemap_figure.png\"\n",
      "\n"
     ]
    }
   ],
   "source": [
    "platemap_files <- list.files(pattern = \"_platemap\\\\.csv$\", full.names = TRUE)\n",
    "print(platemap_files)\n",
    "\n",
    "output_fig_dir <- file.path(\"platemap_figures\")\n",
    "if (!dir.exists(output_fig_dir)) {\n",
    "    dir.create(output_fig_dir, recursive = TRUE)\n",
    "}\n",
    "platemap_suffix <- \"_platemap_figure.png\"\n",
    "\n",
    "# Define output figure paths\n",
    "output_platemap_files <- list()\n",
    "for (platemap_file in platemap_files) {\n",
    "    # Extract plate name and remove suffix \n",
    "    plate <- basename(platemap_file)\n",
    "    plate <- stringr::str_remove(plate, \"_platemap.csv\") \n",
    "    \n",
    "    output_platemap_files[[plate]] <- file.path(output_fig_dir, paste0(plate, platemap_suffix))\n",
    "}\n",
    "\n",
    "print(output_platemap_files)"
   ]
  },
  {
   "cell_type": "markdown",
   "metadata": {},
   "source": [
    "## Load in platemap file"
   ]
  },
  {
   "cell_type": "code",
   "execution_count": 3,
   "metadata": {
    "vscode": {
     "languageId": "r"
    }
   },
   "outputs": [
    {
     "name": "stdout",
     "output_type": "stream",
     "text": [
      "\n",
      "Head of plate: NF0014 \n",
      "\u001b[90m# A tibble: 6 × 5\u001b[39m\n",
      "  WellRow WellCol well_position treatment dose \n",
      "  \u001b[3m\u001b[90m<chr>\u001b[39m\u001b[23m   \u001b[3m\u001b[90m<chr>\u001b[39m\u001b[23m   \u001b[3m\u001b[90m<chr>\u001b[39m\u001b[23m         \u001b[3m\u001b[90m<chr>\u001b[39m\u001b[23m     \u001b[3m\u001b[90m<chr>\u001b[39m\u001b[23m\n",
      "\u001b[90m1\u001b[39m C       2       C2            STAURO    10 uM\n",
      "\u001b[90m2\u001b[39m D       2       D2            Digoxin   1 uM \n",
      "\u001b[90m3\u001b[39m E       2       E2            Digoxin   1 uM \n",
      "\u001b[90m4\u001b[39m F       2       F2            Onalespib 1 uM \n",
      "\u001b[90m5\u001b[39m G       2       G2            STAURO    10 uM\n",
      "\u001b[90m6\u001b[39m C       3       C3            Onalespib 1 uM \n"
     ]
    }
   ],
   "source": [
    "# Load in all platemap CSV files\n",
    "platemap_dfs <- list()\n",
    "for (plate in names(output_platemap_files)) {\n",
    "    # Find the platemap file associated with the plate\n",
    "    platemap_file <- platemap_files[stringr::str_detect(platemap_files, plate)]\n",
    "    \n",
    "    # Load in the platemap data\n",
    "    df <- readr::read_csv(\n",
    "        platemap_file,\n",
    "        col_types = readr::cols(.default = \"c\")\n",
    "    )\n",
    "    \n",
    "    # Update 'Dose' column\n",
    "    df <- df %>%\n",
    "        mutate(\n",
    "            dose = case_when(\n",
    "                treatment == \"DMSO\" ~ paste0(dose, \"%\"),\n",
    "                TRUE ~ paste0(dose, \" uM\")\n",
    "            )\n",
    "        )\n",
    "    \n",
    "    # Store the updated data frame\n",
    "    platemap_dfs[[plate]] <- df \n",
    "}\n",
    "\n",
    "# Print the head of each data frame in the list\n",
    "for (plate in names(platemap_dfs)) {\n",
    "    cat(\"\\nHead of plate:\", plate, \"\\n\")\n",
    "    print(head(platemap_dfs[[plate]]))\n",
    "}"
   ]
  },
  {
   "cell_type": "markdown",
   "metadata": {},
   "source": [
    "## Create example platemaps and save figures"
   ]
  },
  {
   "cell_type": "code",
   "execution_count": 10,
   "metadata": {
    "vscode": {
     "languageId": "r"
    }
   },
   "outputs": [],
   "source": [
    "# Color-blind friendly and most distinct color palette\n",
    "okabe_ito <- c(\n",
    "    \"#E69F00\", \"#56B4E9\", \"#009E73\", \"#F0E442\", \"#8DA0CB\", \n",
    "    \"#D55E00\", \"#CC79A7\", \"#999999\", \"#A6CEE3\", \"#1F78B4\", \n",
    "    \"#B2DF8A\", \"#33A02C\", \"#FB9A99\", \"#E31A1C\", \"#FDBF6F\", \n",
    "    \"#FF7F00\", \"#CAB2D6\"\n",
    ")\n",
    "\n",
    "for (plate in names(platemap_dfs)) {\n",
    "    output_file <- output_platemap_files[[plate]]\n",
    "    platemap <- platetools::raw_map(\n",
    "        data = platemap_dfs[[plate]]$treatment,\n",
    "        well = platemap_dfs[[plate]]$well_position,\n",
    "        plate = 96,\n",
    "        size = 10\n",
    "    ) +\n",
    "        ggtitle(paste(\"Platemap layout for plate\", plate)) +\n",
    "        theme(\n",
    "            plot.title = element_text(size = 10, face = \"bold\"),\n",
    "            legend.position = \"right\",\n",
    "            legend.box = \"vertical\",\n",
    "            legend.spacing.y = unit(0.5, \"cm\"),\n",
    "            legend.margin = margin(t = 0, b = 5, unit = \"pt\"),\n",
    "            legend.text = element_text(size = 8),\n",
    "            legend.title = element_text(size = 9)\n",
    "        ) +\n",
    "        geom_point(aes(shape = platemap_dfs[[plate]]$dose)) +\n",
    "        scale_shape_discrete(name = \"Dose\") +\n",
    "        scale_fill_manual(values = okabe_ito, name = \"Treatment\") +  # Use Okabe-Ito palette\n",
    "        guides(\n",
    "            shape = guide_legend(order = 2, nrow = 1, override.aes = list(size = 3)),\n",
    "            fill = guide_legend(order = 1, ncol = 2, override.aes = list(size = 3))\n",
    "        )\n",
    "\n",
    "    ggsave(output_file, platemap, device = 'png', dpi = 500, height = 4, width = 8)\n",
    "}\n"
   ]
  },
  {
   "cell_type": "code",
   "execution_count": null,
   "metadata": {
    "vscode": {
     "languageId": "r"
    }
   },
   "outputs": [],
   "source": []
  }
 ],
 "metadata": {
  "kernelspec": {
   "display_name": "R",
   "language": "R",
   "name": "ir"
  },
  "language_info": {
   "codemirror_mode": "r",
   "file_extension": ".r",
   "mimetype": "text/x-r-source",
   "name": "R",
   "pygments_lexer": "r",
   "version": "4.2.2"
  }
 },
 "nbformat": 4,
 "nbformat_minor": 2
}
