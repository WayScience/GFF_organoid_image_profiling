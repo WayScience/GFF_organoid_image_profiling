{
 "cells": [
  {
   "cell_type": "markdown",
   "metadata": {},
   "source": [
    "# Copy raw images into one folder to use for CellProfiler processing\n",
    "\n",
    "Currently, the images are located nest deep within multiple folders. \n",
    "For best practices, we will copy the images (preserving metadata) to one folder that can be used for CellProfiler processing."
   ]
  },
  {
   "cell_type": "markdown",
   "metadata": {},
   "source": [
    "## Import libraries"
   ]
  },
  {
   "cell_type": "code",
   "execution_count": 1,
   "metadata": {},
   "outputs": [],
   "source": [
    "from pathlib import Path\n",
    "import shutil"
   ]
  },
  {
   "cell_type": "markdown",
   "metadata": {},
   "source": [
    "## Set paths and variables"
   ]
  },
  {
   "cell_type": "code",
   "execution_count": 2,
   "metadata": {},
   "outputs": [],
   "source": [
    "# Define the parent directory containing all the nested folders\n",
    "parent_dir = Path(\n",
    "    \"/media/18tbdrive/GFF_organoid_data/Cell Painting-NF0014 Thawed3-Pilot Drug Screening/NF0014-Thawed 3 (Raw image files)-Combined/NF0014-Thawed 3 (Raw image files)-Combined copy\"\n",
    ").resolve(strict=True)\n",
    "\n",
    "# Create the NF0014 folder next to the parent_dir (same level in the hierarchy)\n",
    "nf0014_dir = parent_dir.parent / \"NF0014\"\n",
    "nf0014_dir.mkdir(exist_ok=True)\n",
    "\n",
    "# Image extensions that we are looking to copy\n",
    "image_extensions = {\".tif\", \".tiff\"}"
   ]
  },
  {
   "cell_type": "markdown",
   "metadata": {},
   "source": [
    "## Reach the nested images and copy to one folder"
   ]
  },
  {
   "cell_type": "code",
   "execution_count": 3,
   "metadata": {},
   "outputs": [
    {
     "name": "stdout",
     "output_type": "stream",
     "text": [
      "All images have been copied to the NF0014 folder!\n"
     ]
    }
   ],
   "source": [
    "# Iterate over all folders at the first level inside the parent directory\n",
    "for first_level_folder in parent_dir.iterdir():\n",
    "    if first_level_folder.is_dir():\n",
    "        # Go into the first folder\n",
    "        for second_level_folder in first_level_folder.iterdir():\n",
    "            if second_level_folder.is_dir():\n",
    "                # Go into the second folder\n",
    "                for third_level_folder in second_level_folder.iterdir():\n",
    "                    if third_level_folder.is_dir():\n",
    "                        # Get all images inside the third-level folder\n",
    "                        for image_file in third_level_folder.iterdir():\n",
    "                            if image_file.suffix.lower() in image_extensions:\n",
    "                                # Copy each image to the NF0014 folder\n",
    "                                destination = nf0014_dir / image_file.name\n",
    "                                shutil.copy2(image_file, destination)  # copy2 preserves metadata\n",
    "\n",
    "print(\"All images have been copied to the NF0014 folder!\")"
   ]
  }
 ],
 "metadata": {
  "kernelspec": {
   "display_name": "Python 3",
   "language": "python",
   "name": "python3"
  },
  "language_info": {
   "codemirror_mode": {
    "name": "ipython",
    "version": 3
   },
   "file_extension": ".py",
   "mimetype": "text/x-python",
   "name": "python",
   "nbconvert_exporter": "python",
   "pygments_lexer": "ipython3",
   "version": "3.10.15"
  }
 },
 "nbformat": 4,
 "nbformat_minor": 2
}
