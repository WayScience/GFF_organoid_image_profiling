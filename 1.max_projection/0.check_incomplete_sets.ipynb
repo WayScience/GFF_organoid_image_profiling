{
 "cells": [
  {
   "cell_type": "markdown",
   "metadata": {},
   "source": [
    "##"
   ]
  },
  {
   "cell_type": "markdown",
   "metadata": {},
   "source": [
    "# Check the directory of images for any incomplete z-slice channel sets (unique well, site, and z-slice)\n",
    "\n",
    "Prior to processing with CellProfiler to perform max-projection which creates image sets (unique well and site) using the maximum pixel across multiple z-slices.\n",
    "In this notebook, we check to confirm that there all complete z-slice channel sets (all channels per well/site/z-slice).\n",
    "If there are any incomplete, we move them out into a new folder called \"incomplete_data\" to avoid issues with CellProfiler being super mad that are any missing channels."
   ]
  },
  {
   "cell_type": "markdown",
   "metadata": {},
   "source": [
    "## Import libraries"
   ]
  },
  {
   "cell_type": "code",
   "execution_count": 1,
   "metadata": {},
   "outputs": [],
   "source": [
    "import shutil\n",
    "from pathlib import Path\n",
    "from collections import defaultdict"
   ]
  },
  {
   "cell_type": "markdown",
   "metadata": {},
   "source": [
    "## Set paths and variables"
   ]
  },
  {
   "cell_type": "code",
   "execution_count": 2,
   "metadata": {},
   "outputs": [],
   "source": [
    "# Define the path to your directory containing the images\n",
    "image_dir = Path(\"/media/18tbdrive/GFF_organoid_data/Cell Painting-NF0014 Thawed3-Pilot Drug Screening/NF0014-Thawed 3 (Raw image files)-Combined/NF0014\")\n",
    "\n",
    "# Initialize a dictionary to store channels for each unique image set\n",
    "image_sets = defaultdict(set)"
   ]
  },
  {
   "cell_type": "markdown",
   "metadata": {},
   "source": [
    "## Evaluate if there are incomplete z-slice channel sets or not"
   ]
  },
  {
   "cell_type": "code",
   "execution_count": 3,
   "metadata": {},
   "outputs": [
    {
     "name": "stdout",
     "output_type": "stream",
     "text": [
      "The following image sets are missing one or more required channels:\n",
      "F11_site3_ZS000 is missing channel(s): 640\n"
     ]
    }
   ],
   "source": [
    "from collections import defaultdict\n",
    "from pathlib import Path\n",
    "\n",
    "# Assuming image_dir is defined as the directory containing the TIFF files\n",
    "# Define the required channels\n",
    "required_channels = {'640', '405', '555'}  # Add other required channels as needed\n",
    "\n",
    "# Initialize a dictionary to hold sets of channels for each image set\n",
    "image_sets = defaultdict(set)\n",
    "\n",
    "# Loop through all TIFF files in the directory\n",
    "for image_file in image_dir.glob(\"*.tif\"):\n",
    "    # Split the filename to extract key information\n",
    "    parts = image_file.stem.split(\"_\")\n",
    "\n",
    "    # Extract well and site (e.g., 'C10-1' -> well='C10', site='1')\n",
    "    well_site = parts[0]\n",
    "    well = well_site.split(\"-\")[0]  # Extract well (e.g., 'C10')\n",
    "    site = well_site.split(\"-\")[1]  # Extract site (e.g., '1')\n",
    "\n",
    "    # Extract Z-slice identifier (e.g., ZS000)\n",
    "    z_slice = parts[2]  # Example: 'ZS000'\n",
    "\n",
    "    # Create a unique identifier for the image set (well, site, Z-slice)\n",
    "    set_id = f\"{well}_site{site}_{z_slice}\"\n",
    "\n",
    "    # Store the channel for this image set\n",
    "    channel = parts[1]\n",
    "    image_sets[set_id].add(channel)\n",
    "\n",
    "# Find image sets missing any required channels\n",
    "missing_channels = []\n",
    "\n",
    "for set_id, channels in image_sets.items():\n",
    "    # Check which required channels are missing\n",
    "    missing = required_channels - channels\n",
    "    if missing:\n",
    "        missing_channels.append((set_id, missing))  # Store set_id with missing channels\n",
    "\n",
    "# Print the results\n",
    "if missing_channels:\n",
    "    print(\"The following image sets are missing one or more required channels:\")\n",
    "    for set_id, missing in missing_channels:\n",
    "        print(f\"{set_id} is missing channel(s): {', '.join(missing)}\")\n",
    "else:\n",
    "    print(\"All image sets contain the required channels.\")"
   ]
  },
  {
   "cell_type": "markdown",
   "metadata": {},
   "source": [
    "## If there are any incomplete sets, move them into a separate directory called `incomplete_data`"
   ]
  },
  {
   "cell_type": "code",
   "execution_count": 4,
   "metadata": {},
   "outputs": [
    {
     "name": "stdout",
     "output_type": "stream",
     "text": [
      "Moved: /media/18tbdrive/GFF_organoid_data/Cell Painting-NF0014 Thawed3-Pilot Drug Screening/NF0014-Thawed 3 (Raw image files)-Combined/NF0014/F11-3_405_ZS000_FOV-1.tif to /media/18tbdrive/GFF_organoid_data/Cell Painting-NF0014 Thawed3-Pilot Drug Screening/NF0014-Thawed 3 (Raw image files)-Combined/incomplete_data/F11-3_405_ZS000_FOV-1.tif\n",
      "Moved: /media/18tbdrive/GFF_organoid_data/Cell Painting-NF0014 Thawed3-Pilot Drug Screening/NF0014-Thawed 3 (Raw image files)-Combined/NF0014/F11-3_Merge_ZS000_FOV-1.tif to /media/18tbdrive/GFF_organoid_data/Cell Painting-NF0014 Thawed3-Pilot Drug Screening/NF0014-Thawed 3 (Raw image files)-Combined/incomplete_data/F11-3_Merge_ZS000_FOV-1.tif\n",
      "Moved: /media/18tbdrive/GFF_organoid_data/Cell Painting-NF0014 Thawed3-Pilot Drug Screening/NF0014-Thawed 3 (Raw image files)-Combined/NF0014/F11-3_555_ZS000_FOV-1.tif to /media/18tbdrive/GFF_organoid_data/Cell Painting-NF0014 Thawed3-Pilot Drug Screening/NF0014-Thawed 3 (Raw image files)-Combined/incomplete_data/F11-3_555_ZS000_FOV-1.tif\n",
      "Moved: /media/18tbdrive/GFF_organoid_data/Cell Painting-NF0014 Thawed3-Pilot Drug Screening/NF0014-Thawed 3 (Raw image files)-Combined/NF0014/F11-3_488_ZS000_FOV-1.tif to /media/18tbdrive/GFF_organoid_data/Cell Painting-NF0014 Thawed3-Pilot Drug Screening/NF0014-Thawed 3 (Raw image files)-Combined/incomplete_data/F11-3_488_ZS000_FOV-1.tif\n",
      "Moved: /media/18tbdrive/GFF_organoid_data/Cell Painting-NF0014 Thawed3-Pilot Drug Screening/NF0014-Thawed 3 (Raw image files)-Combined/NF0014/F11-3_TRANS_ZS000_FOV-1.tif to /media/18tbdrive/GFF_organoid_data/Cell Painting-NF0014 Thawed3-Pilot Drug Screening/NF0014-Thawed 3 (Raw image files)-Combined/incomplete_data/F11-3_TRANS_ZS000_FOV-1.tif\n"
     ]
    }
   ],
   "source": [
    "# Define the path for the incomplete data directory\n",
    "incomplete_data_dir = image_dir.parent / 'incomplete_data'\n",
    "\n",
    "# Create the incomplete_data directory if it doesn't exist\n",
    "incomplete_data_dir.mkdir(exist_ok=True)\n",
    "\n",
    "# Move the files corresponding to the missing channels\n",
    "for set_id, missing in missing_channels:  # Unpack the tuple\n",
    "    # Extract well and site from set_id\n",
    "    well_site_parts = set_id.split('_site')  # Split into well and site\n",
    "    if len(well_site_parts) == 2:  # Ensure it has two parts\n",
    "        well = well_site_parts[0]  # Get well part\n",
    "        site_z = well_site_parts[1]  # Get site and z-slice part\n",
    "        site, z_slice = site_z.split('_')  # Now split the site and z-slice\n",
    "    else:\n",
    "        print(f\"Unexpected set_id format: {set_id}\")\n",
    "        continue  # Skip this set_id if format is unexpected\n",
    "\n",
    "    # Loop through the image files again to find those to move\n",
    "    for file in image_dir.glob(\"*.tif\"):\n",
    "        if f\"{well}-{site}\" in file.stem and z_slice in file.stem:\n",
    "            # Define the target path in the incomplete_data directory\n",
    "            target_path = incomplete_data_dir / file.name\n",
    "            # Move the file to the incomplete_data directory\n",
    "            shutil.move(str(file), str(target_path))\n",
    "            print(f\"Moved: {file} to {target_path}\")"
   ]
  }
 ],
 "metadata": {
  "kernelspec": {
   "display_name": "Python 3",
   "language": "python",
   "name": "python3"
  },
  "language_info": {
   "codemirror_mode": {
    "name": "ipython",
    "version": 3
   },
   "file_extension": ".py",
   "mimetype": "text/x-python",
   "name": "python",
   "nbconvert_exporter": "python",
   "pygments_lexer": "ipython3",
   "version": "3.10.15"
  }
 },
 "nbformat": 4,
 "nbformat_minor": 2
}
