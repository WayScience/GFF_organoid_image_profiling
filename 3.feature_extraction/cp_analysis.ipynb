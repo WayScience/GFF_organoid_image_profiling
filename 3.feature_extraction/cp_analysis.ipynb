{
 "cells": [
  {
   "cell_type": "markdown",
   "metadata": {},
   "source": [
    "# Perform analysis (segmentation and feature extraction) and save features as an SQLite database"
   ]
  },
  {
   "cell_type": "markdown",
   "metadata": {},
   "source": [
    "## Import libraries"
   ]
  },
  {
   "cell_type": "code",
   "execution_count": 1,
   "metadata": {},
   "outputs": [],
   "source": [
    "import pathlib\n",
    "import pprint\n",
    "\n",
    "import sys\n",
    "\n",
    "sys.path.append(\"../utils\")\n",
    "import cp_parallel"
   ]
  },
  {
   "cell_type": "markdown",
   "metadata": {},
   "source": [
    "## Set paths and variables"
   ]
  },
  {
   "cell_type": "code",
   "execution_count": 2,
   "metadata": {},
   "outputs": [
    {
     "name": "stdout",
     "output_type": "stream",
     "text": [
      "NF0014\n"
     ]
    }
   ],
   "source": [
    "# set the run type for the parallelization\n",
    "run_name = \"analysis\"\n",
    "\n",
    "# set path for CellProfiler pipeline\n",
    "path_to_pipeline = pathlib.Path(\"./analysis.cppipe\").resolve(strict=True)\n",
    "\n",
    "# set main output dir for all plates if it doesn't exist\n",
    "output_dir = pathlib.Path(\"./sqlite_output\")\n",
    "output_dir.mkdir(exist_ok=True)\n",
    "\n",
    "# set path to plugins directory for the CLI to reference (will need to update locally if reproducing)\n",
    "plugins_directory = (\n",
    "    pathlib.Path(\"../../Desktop/Github/CellProfiler/cellprofiler/modules/plugins\")\n",
    "    .absolute()\n",
    "    .resolve(strict=True)\n",
    ")\n",
    "\n",
    "# directory where IC images are within the folder\n",
    "images_dir = pathlib.Path(\n",
    "    \"../2.illumination_correction/Corrected_Images/NF0014\"\n",
    ").resolve(strict=True)\n",
    "\n",
    "# Get the plate name from the folder name\n",
    "plate_name = images_dir.stem  # Get the folder name as the plate name\n",
    "print(plate_name)"
   ]
  },
  {
   "cell_type": "markdown",
   "metadata": {},
   "source": [
    "## Create dictionary to process data"
   ]
  },
  {
   "cell_type": "code",
   "execution_count": 3,
   "metadata": {},
   "outputs": [
    {
     "name": "stdout",
     "output_type": "stream",
     "text": [
      "{   'NF0014': {   'path_to_images': PosixPath('/home/jenna/GFF_organoid_image_profiling/2.illumination_correction/Corrected_Images/NF0014'),\n",
      "                  'path_to_output': PosixPath('sqlite_output/NF0014'),\n",
      "                  'path_to_pipeline': PosixPath('/home/jenna/GFF_organoid_image_profiling/3.feature_extraction/analysis.cppipe'),\n",
      "                  'plugins_directory': PosixPath('/home/jenna/Desktop/Github/CellProfiler/cellprofiler/modules/plugins')}}\n"
     ]
    }
   ],
   "source": [
    "# create plate info dictionary with all parts of the CellProfiler CLI command to run in parallel\n",
    "plate_info_dictionary = {\n",
    "    plate_name: {\n",
    "        \"path_to_images\": images_dir,\n",
    "        \"path_to_output\": pathlib.Path(f\"{output_dir}/{plate_name}\"),\n",
    "        \"path_to_pipeline\": path_to_pipeline,\n",
    "        \"plugins_directory\": plugins_directory\n",
    "    }\n",
    "}\n",
    "\n",
    "# view the dictionary to assess that all info is added correctly\n",
    "pprint.pprint(plate_info_dictionary, indent=4)"
   ]
  },
  {
   "cell_type": "markdown",
   "metadata": {},
   "source": [
    "## Perform CellProfiler analysis on data\n",
    "\n",
    "The function being called is called \"run_cellprofiler_parallel\" but can be used if there is only one plate to run. We can also split the data by well and process that way in parallel, but we choose to process at all at once for now.\n",
    "\n",
    "Note: This code cell was not ran as we prefer to perform CellProfiler processing tasks via `sh` file (bash script) which is more stable."
   ]
  },
  {
   "cell_type": "code",
   "execution_count": null,
   "metadata": {},
   "outputs": [],
   "source": [
    "cp_parallel.run_cellprofiler_parallel(\n",
    "    plate_info_dictionary=plate_info_dictionary, run_name=run_name\n",
    ")"
   ]
  }
 ],
 "metadata": {
  "kernelspec": {
   "display_name": "cfret_data",
   "language": "python",
   "name": "python3"
  },
  "language_info": {
   "codemirror_mode": {
    "name": "ipython",
    "version": 3
   },
   "file_extension": ".py",
   "mimetype": "text/x-python",
   "name": "python",
   "nbconvert_exporter": "python",
   "pygments_lexer": "ipython3",
   "version": "3.9.20"
  },
  "orig_nbformat": 4
 },
 "nbformat": 4,
 "nbformat_minor": 2
}
